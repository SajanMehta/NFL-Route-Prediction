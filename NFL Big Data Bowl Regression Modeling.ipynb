{
 "cells": [
  {
   "cell_type": "markdown",
   "id": "c09f86b1",
   "metadata": {},
   "source": [
    "<h1 align=\"center\"><font color=#0000C2>NFL Big Data Bowl 2025</font></h1>\n",
    "<h2 align=\"center\"> <font color=#800000>Receiver Route Predictor: Modeling</font></h2>"
   ]
  },
  {
   "cell_type": "code",
   "execution_count": 71,
   "id": "f50eeddb",
   "metadata": {},
   "outputs": [],
   "source": [
    "import pandas as pd\n",
    "import numpy as np\n",
    "from sklearn.metrics import accuracy_score\n",
    "from sklearn.model_selection import train_test_split, RandomizedSearchCV\n",
    "from sklearn.metrics import confusion_matrix, classification_report\n",
    "from sklearn.linear_model import LogisticRegression\n",
    "from sklearn.ensemble import RandomForestClassifier\n",
    "from scipy.stats import randint\n",
    "import matplotlib.pyplot as plt"
   ]
  },
  {
   "cell_type": "code",
   "execution_count": 2,
   "id": "75458e20",
   "metadata": {},
   "outputs": [],
   "source": [
    "data = pd.read_csv('preliminary_data.csv')"
   ]
  },
  {
   "cell_type": "code",
   "execution_count": 3,
   "id": "ae12f0a0",
   "metadata": {},
   "outputs": [
    {
     "data": {
      "text/html": [
       "<div>\n",
       "<style scoped>\n",
       "    .dataframe tbody tr th:only-of-type {\n",
       "        vertical-align: middle;\n",
       "    }\n",
       "\n",
       "    .dataframe tbody tr th {\n",
       "        vertical-align: top;\n",
       "    }\n",
       "\n",
       "    .dataframe thead th {\n",
       "        text-align: right;\n",
       "    }\n",
       "</style>\n",
       "<table border=\"1\" class=\"dataframe\">\n",
       "  <thead>\n",
       "    <tr style=\"text-align: right;\">\n",
       "      <th></th>\n",
       "      <th>Unnamed: 0</th>\n",
       "      <th>playId</th>\n",
       "      <th>week</th>\n",
       "      <th>wasRunningRoute</th>\n",
       "      <th>routeRan</th>\n",
       "      <th>position</th>\n",
       "      <th>nflId</th>\n",
       "      <th>quarter</th>\n",
       "      <th>down</th>\n",
       "      <th>yardsToGo</th>\n",
       "      <th>offenseFormation</th>\n",
       "      <th>receiverAlignment</th>\n",
       "      <th>defensiveTeam</th>\n",
       "      <th>possessionTeam</th>\n",
       "      <th>distanceToCenter_x</th>\n",
       "      <th>distanceToCenter_y</th>\n",
       "      <th>yardsToEndzone</th>\n",
       "      <th>scoreDifferential</th>\n",
       "      <th>timeInHalf</th>\n",
       "      <th>timeInGame</th>\n",
       "    </tr>\n",
       "  </thead>\n",
       "  <tbody>\n",
       "    <tr>\n",
       "      <th>0</th>\n",
       "      <td>4</td>\n",
       "      <td>56</td>\n",
       "      <td>1</td>\n",
       "      <td>1.0</td>\n",
       "      <td>IN</td>\n",
       "      <td>WR</td>\n",
       "      <td>42489</td>\n",
       "      <td>1</td>\n",
       "      <td>1</td>\n",
       "      <td>10</td>\n",
       "      <td>SHOTGUN</td>\n",
       "      <td>2x2</td>\n",
       "      <td>LA</td>\n",
       "      <td>BUF</td>\n",
       "      <td>0.67</td>\n",
       "      <td>-13.98</td>\n",
       "      <td>75</td>\n",
       "      <td>0</td>\n",
       "      <td>1800</td>\n",
       "      <td>3600</td>\n",
       "    </tr>\n",
       "    <tr>\n",
       "      <th>1</th>\n",
       "      <td>8</td>\n",
       "      <td>56</td>\n",
       "      <td>1</td>\n",
       "      <td>1.0</td>\n",
       "      <td>OUT</td>\n",
       "      <td>WR</td>\n",
       "      <td>44985</td>\n",
       "      <td>1</td>\n",
       "      <td>1</td>\n",
       "      <td>10</td>\n",
       "      <td>SHOTGUN</td>\n",
       "      <td>2x2</td>\n",
       "      <td>LA</td>\n",
       "      <td>BUF</td>\n",
       "      <td>0.69</td>\n",
       "      <td>11.47</td>\n",
       "      <td>75</td>\n",
       "      <td>0</td>\n",
       "      <td>1800</td>\n",
       "      <td>3600</td>\n",
       "    </tr>\n",
       "    <tr>\n",
       "      <th>2</th>\n",
       "      <td>14</td>\n",
       "      <td>56</td>\n",
       "      <td>1</td>\n",
       "      <td>1.0</td>\n",
       "      <td>IN</td>\n",
       "      <td>TE</td>\n",
       "      <td>47879</td>\n",
       "      <td>1</td>\n",
       "      <td>1</td>\n",
       "      <td>10</td>\n",
       "      <td>SHOTGUN</td>\n",
       "      <td>2x2</td>\n",
       "      <td>LA</td>\n",
       "      <td>BUF</td>\n",
       "      <td>0.63</td>\n",
       "      <td>-4.70</td>\n",
       "      <td>75</td>\n",
       "      <td>0</td>\n",
       "      <td>1800</td>\n",
       "      <td>3600</td>\n",
       "    </tr>\n",
       "    <tr>\n",
       "      <th>3</th>\n",
       "      <td>18</td>\n",
       "      <td>56</td>\n",
       "      <td>1</td>\n",
       "      <td>1.0</td>\n",
       "      <td>GO</td>\n",
       "      <td>WR</td>\n",
       "      <td>52536</td>\n",
       "      <td>1</td>\n",
       "      <td>1</td>\n",
       "      <td>10</td>\n",
       "      <td>SHOTGUN</td>\n",
       "      <td>2x2</td>\n",
       "      <td>LA</td>\n",
       "      <td>BUF</td>\n",
       "      <td>0.11</td>\n",
       "      <td>21.42</td>\n",
       "      <td>75</td>\n",
       "      <td>0</td>\n",
       "      <td>1800</td>\n",
       "      <td>3600</td>\n",
       "    </tr>\n",
       "    <tr>\n",
       "      <th>4</th>\n",
       "      <td>136</td>\n",
       "      <td>122</td>\n",
       "      <td>1</td>\n",
       "      <td>1.0</td>\n",
       "      <td>GO</td>\n",
       "      <td>WR</td>\n",
       "      <td>42489</td>\n",
       "      <td>1</td>\n",
       "      <td>2</td>\n",
       "      <td>3</td>\n",
       "      <td>SHOTGUN</td>\n",
       "      <td>2x1</td>\n",
       "      <td>LA</td>\n",
       "      <td>BUF</td>\n",
       "      <td>0.22</td>\n",
       "      <td>-8.31</td>\n",
       "      <td>55</td>\n",
       "      <td>0</td>\n",
       "      <td>1695</td>\n",
       "      <td>3495</td>\n",
       "    </tr>\n",
       "  </tbody>\n",
       "</table>\n",
       "</div>"
      ],
      "text/plain": [
       "   Unnamed: 0  playId  week  wasRunningRoute routeRan position  nflId  \\\n",
       "0           4      56     1              1.0       IN       WR  42489   \n",
       "1           8      56     1              1.0      OUT       WR  44985   \n",
       "2          14      56     1              1.0       IN       TE  47879   \n",
       "3          18      56     1              1.0       GO       WR  52536   \n",
       "4         136     122     1              1.0       GO       WR  42489   \n",
       "\n",
       "   quarter  down  yardsToGo offenseFormation receiverAlignment defensiveTeam  \\\n",
       "0        1     1         10          SHOTGUN               2x2            LA   \n",
       "1        1     1         10          SHOTGUN               2x2            LA   \n",
       "2        1     1         10          SHOTGUN               2x2            LA   \n",
       "3        1     1         10          SHOTGUN               2x2            LA   \n",
       "4        1     2          3          SHOTGUN               2x1            LA   \n",
       "\n",
       "  possessionTeam  distanceToCenter_x  distanceToCenter_y  yardsToEndzone  \\\n",
       "0            BUF                0.67              -13.98              75   \n",
       "1            BUF                0.69               11.47              75   \n",
       "2            BUF                0.63               -4.70              75   \n",
       "3            BUF                0.11               21.42              75   \n",
       "4            BUF                0.22               -8.31              55   \n",
       "\n",
       "   scoreDifferential  timeInHalf  timeInGame  \n",
       "0                  0        1800        3600  \n",
       "1                  0        1800        3600  \n",
       "2                  0        1800        3600  \n",
       "3                  0        1800        3600  \n",
       "4                  0        1695        3495  "
      ]
     },
     "execution_count": 3,
     "metadata": {},
     "output_type": "execute_result"
    }
   ],
   "source": [
    "data.head()"
   ]
  },
  {
   "cell_type": "code",
   "execution_count": 4,
   "id": "57f6eeec",
   "metadata": {},
   "outputs": [
    {
     "name": "stdout",
     "output_type": "stream",
     "text": [
      "<class 'pandas.core.frame.DataFrame'>\n",
      "RangeIndex: 40848 entries, 0 to 40847\n",
      "Data columns (total 20 columns):\n",
      " #   Column              Non-Null Count  Dtype  \n",
      "---  ------              --------------  -----  \n",
      " 0   Unnamed: 0          40848 non-null  int64  \n",
      " 1   playId              40848 non-null  int64  \n",
      " 2   week                40848 non-null  int64  \n",
      " 3   wasRunningRoute     40848 non-null  float64\n",
      " 4   routeRan            40848 non-null  object \n",
      " 5   position            40848 non-null  object \n",
      " 6   nflId               40848 non-null  int64  \n",
      " 7   quarter             40848 non-null  int64  \n",
      " 8   down                40848 non-null  int64  \n",
      " 9   yardsToGo           40848 non-null  int64  \n",
      " 10  offenseFormation    40848 non-null  object \n",
      " 11  receiverAlignment   40848 non-null  object \n",
      " 12  defensiveTeam       40848 non-null  object \n",
      " 13  possessionTeam      40848 non-null  object \n",
      " 14  distanceToCenter_x  40848 non-null  float64\n",
      " 15  distanceToCenter_y  40848 non-null  float64\n",
      " 16  yardsToEndzone      40848 non-null  int64  \n",
      " 17  scoreDifferential   40848 non-null  int64  \n",
      " 18  timeInHalf          40848 non-null  int64  \n",
      " 19  timeInGame          40848 non-null  int64  \n",
      "dtypes: float64(3), int64(11), object(6)\n",
      "memory usage: 6.2+ MB\n"
     ]
    }
   ],
   "source": [
    "data.info()"
   ]
  },
  {
   "cell_type": "markdown",
   "id": "edbf556a",
   "metadata": {},
   "source": [
    "Importance of the variables:\n",
    "\n",
    "routeRan: Category being predicted, contains 12 possible routes\n",
    "\n",
    "position: Certain routes may only be run by wide receivers, generally go routes. Patterns like this would occur for running backs and tight ends as well\n",
    "\n",
    "down and yards to go: On third down and long, a team needs to get the first down, and may be more likely to run mid range routes or screens. On second and short, a team may be likely to go for a deep shot.\n",
    "\n",
    "offense formation: depending on the formation, there may or may not be a running back, and that can change how long the quarterback has to throw, and how many receivers will be lined up\n",
    "\n",
    "receiverAlignment: different plays may occur with different receiver alignments, similar to offense formation\n",
    "\n",
    "distance to Center X and Y: If someone is far, they may be more likely to run a go or post, and if they are close, crossing routes and slants may be more likely. If they are positioned further back from the center, a screen may be more likely\n",
    "\n",
    "yards to endzone, time left, and score differential: These all determine the flow of the game. If there is short time and a team is down two scores, they may need to go for a bunch of longer routes to try to score as fast as possible."
   ]
  },
  {
   "cell_type": "markdown",
   "id": "90ea9055",
   "metadata": {},
   "source": [
    "Feature Importance Charts:"
   ]
  },
  {
   "cell_type": "code",
   "execution_count": 6,
   "id": "e305003d",
   "metadata": {},
   "outputs": [],
   "source": [
    "toEncode = data[['position', 'down', 'yardsToGo', 'offenseFormation', 'receiverAlignment', 'distanceToCenter_x', 'distanceToCenter_y', 'yardsToEndzone','scoreDifferential','timeInHalf','timeInGame','routeRan']]\n",
    "X = toEncode.drop('routeRan', axis=1)\n",
    "y = toEncode['routeRan']\n",
    "\n",
    "X = pd.get_dummies(X, columns=['position', 'offenseFormation', 'receiverAlignment','down'])"
   ]
  },
  {
   "cell_type": "code",
   "execution_count": 7,
   "id": "41b70adb",
   "metadata": {},
   "outputs": [],
   "source": [
    "X_train, X_test, y_train, y_test = train_test_split(X, y, test_size=0.2, random_state=42)"
   ]
  },
  {
   "cell_type": "code",
   "execution_count": 8,
   "id": "92ed65c0",
   "metadata": {},
   "outputs": [],
   "source": [
    "model = LogisticRegression(max_iter = 15000, multi_class = 'multinomial')"
   ]
  },
  {
   "cell_type": "code",
   "execution_count": 9,
   "id": "e178f18e",
   "metadata": {},
   "outputs": [],
   "source": [
    "LR = model.fit(X_train, y_train)"
   ]
  },
  {
   "cell_type": "code",
   "execution_count": 10,
   "id": "280e2d72",
   "metadata": {},
   "outputs": [
    {
     "data": {
      "text/plain": [
       "array([[   8,    0,    0,  319,    0,    0,    0,    1,    0,    0,    0,\n",
       "           0],\n",
       "       [   0,    0,   58,   17,  223,   75,    0,    4,    0,    0,    0,\n",
       "           0],\n",
       "       [   0,    0,  197,  106,  376,  154,    0,   22,    0,    0,    0,\n",
       "           0],\n",
       "       [  13,    0,   79,  872,  122,   74,    0,   19,    0,    1,    0,\n",
       "           0],\n",
       "       [   0,    0,   87,   99, 1058,  173,    0,   25,    0,    0,    0,\n",
       "           0],\n",
       "       [   0,    0,   67,  109,  748,  209,    0,   13,    0,    0,    0,\n",
       "           0],\n",
       "       [   0,    0,   39,   29,  448,  103,    0,    7,    0,    0,    0,\n",
       "           0],\n",
       "       [   0,    0,   57,  214,  424,  128,    0,   15,    0,    0,    0,\n",
       "           0],\n",
       "       [   0,    0,   44,    6,  390,   88,    0,    4,    0,    1,    0,\n",
       "           0],\n",
       "       [   1,    0,   34,  137,  125,   30,    0,   11,    0,    0,    0,\n",
       "           0],\n",
       "       [   0,    0,   28,   35,  330,   68,    0,    5,    0,    0,    0,\n",
       "           0],\n",
       "       [   1,    0,    0,   40,    0,    0,    0,    0,    0,    0,    0,\n",
       "           0]], dtype=int64)"
      ]
     },
     "execution_count": 10,
     "metadata": {},
     "output_type": "execute_result"
    }
   ],
   "source": [
    "confusion_matrix(y_test, LR.predict(X_test))"
   ]
  },
  {
   "cell_type": "code",
   "execution_count": 11,
   "id": "17efd8e2",
   "metadata": {},
   "outputs": [
    {
     "name": "stdout",
     "output_type": "stream",
     "text": [
      "              precision    recall  f1-score   support\n",
      "\n",
      "       ANGLE       0.35      0.02      0.05       328\n",
      "      CORNER       0.00      0.00      0.00       377\n",
      "       CROSS       0.29      0.23      0.26       855\n",
      "        FLAT       0.44      0.74      0.55      1180\n",
      "          GO       0.25      0.73      0.37      1442\n",
      "       HITCH       0.19      0.18      0.19      1146\n",
      "          IN       0.00      0.00      0.00       626\n",
      "         OUT       0.12      0.02      0.03       838\n",
      "        POST       0.00      0.00      0.00       533\n",
      "      SCREEN       0.00      0.00      0.00       338\n",
      "       SLANT       0.00      0.00      0.00       466\n",
      "       WHEEL       0.00      0.00      0.00        41\n",
      "\n",
      "    accuracy                           0.29      8170\n",
      "   macro avg       0.14      0.16      0.12      8170\n",
      "weighted avg       0.19      0.29      0.20      8170\n",
      "\n"
     ]
    },
    {
     "name": "stderr",
     "output_type": "stream",
     "text": [
      "C:\\Users\\14103\\anaconda3\\Lib\\site-packages\\sklearn\\metrics\\_classification.py:1469: UndefinedMetricWarning: Precision and F-score are ill-defined and being set to 0.0 in labels with no predicted samples. Use `zero_division` parameter to control this behavior.\n",
      "  _warn_prf(average, modifier, msg_start, len(result))\n",
      "C:\\Users\\14103\\anaconda3\\Lib\\site-packages\\sklearn\\metrics\\_classification.py:1469: UndefinedMetricWarning: Precision and F-score are ill-defined and being set to 0.0 in labels with no predicted samples. Use `zero_division` parameter to control this behavior.\n",
      "  _warn_prf(average, modifier, msg_start, len(result))\n",
      "C:\\Users\\14103\\anaconda3\\Lib\\site-packages\\sklearn\\metrics\\_classification.py:1469: UndefinedMetricWarning: Precision and F-score are ill-defined and being set to 0.0 in labels with no predicted samples. Use `zero_division` parameter to control this behavior.\n",
      "  _warn_prf(average, modifier, msg_start, len(result))\n"
     ]
    }
   ],
   "source": [
    "print(classification_report(y_test, LR.predict(X_test)))"
   ]
  },
  {
   "cell_type": "code",
   "execution_count": 12,
   "id": "232eac65",
   "metadata": {},
   "outputs": [],
   "source": [
    "rf = RandomForestClassifier()"
   ]
  },
  {
   "cell_type": "code",
   "execution_count": 68,
   "id": "9d6c8ac7",
   "metadata": {},
   "outputs": [],
   "source": [
    "RF = rf.fit(X_train,y_train)"
   ]
  },
  {
   "cell_type": "code",
   "execution_count": 69,
   "id": "7471ea7c",
   "metadata": {},
   "outputs": [
    {
     "data": {
      "text/plain": [
       "array([[ 39,   0,   0, ...,   0,   0,   0],\n",
       "       [  0,  12,  73, ...,   2,   2,   0],\n",
       "       [  0,  33, 282, ...,   7,   8,   0],\n",
       "       ...,\n",
       "       [  5,   8,  35, ...,  26,   1,   1],\n",
       "       [  0,   6,  35, ...,   6,  23,   0],\n",
       "       [  0,   0,   0, ...,   0,   0,   0]], dtype=int64)"
      ]
     },
     "execution_count": 69,
     "metadata": {},
     "output_type": "execute_result"
    }
   ],
   "source": [
    "confusion_matrix(y_test, RF.predict(X_test))"
   ]
  },
  {
   "cell_type": "code",
   "execution_count": 15,
   "id": "59dfd149",
   "metadata": {},
   "outputs": [
    {
     "name": "stdout",
     "output_type": "stream",
     "text": [
      "              precision    recall  f1-score   support\n",
      "\n",
      "       ANGLE       0.31      0.12      0.17       328\n",
      "      CORNER       0.10      0.04      0.06       377\n",
      "       CROSS       0.30      0.31      0.31       855\n",
      "        FLAT       0.48      0.70      0.57      1180\n",
      "          GO       0.31      0.53      0.39      1442\n",
      "       HITCH       0.21      0.29      0.24      1146\n",
      "          IN       0.07      0.03      0.04       626\n",
      "         OUT       0.19      0.11      0.14       838\n",
      "        POST       0.09      0.04      0.06       533\n",
      "      SCREEN       0.30      0.08      0.13       338\n",
      "       SLANT       0.20      0.06      0.09       466\n",
      "       WHEEL       0.00      0.00      0.00        41\n",
      "\n",
      "    accuracy                           0.30      8170\n",
      "   macro avg       0.21      0.19      0.18      8170\n",
      "weighted avg       0.26      0.30      0.26      8170\n",
      "\n"
     ]
    }
   ],
   "source": [
    "# Classification report shows how many routes were run in each category - there were a few outliers above 1000 and one 41\n",
    "print(classification_report(y_test, RF.predict(X_test)))"
   ]
  },
  {
   "cell_type": "markdown",
   "id": "d65aed3d",
   "metadata": {},
   "source": [
    "From the Multinomial Logistic Regression confusion matrix, we see some interesting points. The first is that the model basically always predicted one of the 4 most common routes. Interestingly, this still provided an accuracy of 29%. The regression model had 0% precision and recall for half of the routes.\n",
    "\n",
    "For the Random Forest, the accuracy is 30%, which is only marginally higher, but the model does a better job of predicting a wide range of routes. With Hyper parameter tuning as shown below, the model reaches slightly over 32% accuracy.\n",
    "\n",
    "While roughly 30% is not a very accurate model, when comparing to the best baseline model (most common route is predicted every time), the baseline model had an accuracy of around 18% (1442 GO/8170 Total). Both the Regression model and the random forest outperformed the baseline model by a wide margin, which shows promise for the usefulness of the model"
   ]
  },
  {
   "cell_type": "code",
   "execution_count": 72,
   "id": "1b7b88e4",
   "metadata": {},
   "outputs": [
    {
     "data": {
      "image/png": "[encoded data removed]",
      "text/plain": [
       "<Figure size 640x480 with 1 Axes>"
      ]
     },
     "metadata": {},
     "output_type": "display_data"
    }
   ],
   "source": [
    "# Show feature importances in the random forest model\n",
    "importances = RF.feature_importances_\n",
    "\n",
    "# Create a bar chart\n",
    "plt.bar(range(len(importances)), importances, align='center')\n",
    "plt.xticks(range(len(importances)), X.columns, rotation=90)\n",
    "plt.xlabel('Features')\n",
    "plt.ylabel('Importance')\n",
    "plt.title('Feature Importance')\n",
    "plt.show()"
   ]
  },
  {
   "cell_type": "markdown",
   "id": "08ba99c8",
   "metadata": {},
   "source": [
    "As stated above, there are certain variables that are more related to the flow of the game. On average, these were the most important variables - distance to endzone, score differential, time in game, time in half, and yards to first down. However, the most important variables were the relative position to the snapper before the play. Factors such as position, formation, alignment, and down had very little impact on the model.\n",
    "\n",
    "I can understand that down is a less important factor than time in the game and yards to go, as the down wouldn't exactly show desperation like the other ones would. \n",
    "\n",
    "Receiver alignment is another interesting one, but in hindsight it makes sense that it is simply a less defining version of distance to center. Instead of the actual distance to the center, it simply shows how many receivers there are and where they are lining up. This would be important for determining plays, but the actual location matters much more.\n",
    "\n",
    "Offense formation is of low importance because this model is only looking at the routes run. I think offense formation and receiver alignment would both be useful in determining what play is being run, or whether there is a run vs a pass, but both of these are outside the scope of this project."
   ]
  },
  {
   "cell_type": "code",
   "execution_count": 16,
   "id": "236ffa14",
   "metadata": {},
   "outputs": [],
   "source": [
    "columns = ['ANGLE','CORNER','CROSS','FLAT','GO','HITCH','IN','OUT','POST','SCREEN','SLANT','WHEEL']"
   ]
  },
  {
   "cell_type": "code",
   "execution_count": 35,
   "id": "1c7e1b46",
   "metadata": {},
   "outputs": [
    {
     "name": "stdout",
     "output_type": "stream",
     "text": [
      "['ANGLE' 'CORNER' 'CROSS' ... 'SCREEN' 'SLANT' 'WHEEL']\n"
     ]
    }
   ],
   "source": [
    "print(model.classes_)"
   ]
  },
  {
   "cell_type": "code",
   "execution_count": 17,
   "id": "3b85bdf3",
   "metadata": {},
   "outputs": [],
   "source": [
    "# Hyper Parameter Tuning\n",
    "params = {'n_estimators': randint(50,500), 'max_depth': randint(1,20)}\n",
    "\n",
    "rf = RandomForestClassifier()\n",
    "\n",
    "random_search = RandomizedSearchCV(rf, param_distributions = params, n_iter=10, cv=5)\n",
    "\n",
    "RF = random_search.fit(X_train,y_train)"
   ]
  },
  {
   "cell_type": "code",
   "execution_count": 18,
   "id": "74b9cb8b",
   "metadata": {},
   "outputs": [
    {
     "name": "stderr",
     "output_type": "stream",
     "text": [
      "C:\\Users\\14103\\anaconda3\\Lib\\site-packages\\sklearn\\metrics\\_classification.py:1469: UndefinedMetricWarning: Precision and F-score are ill-defined and being set to 0.0 in labels with no predicted samples. Use `zero_division` parameter to control this behavior.\n",
      "  _warn_prf(average, modifier, msg_start, len(result))\n",
      "C:\\Users\\14103\\anaconda3\\Lib\\site-packages\\sklearn\\metrics\\_classification.py:1469: UndefinedMetricWarning: Precision and F-score are ill-defined and being set to 0.0 in labels with no predicted samples. Use `zero_division` parameter to control this behavior.\n",
      "  _warn_prf(average, modifier, msg_start, len(result))\n",
      "C:\\Users\\14103\\anaconda3\\Lib\\site-packages\\sklearn\\metrics\\_classification.py:1469: UndefinedMetricWarning: Precision and F-score are ill-defined and being set to 0.0 in labels with no predicted samples. Use `zero_division` parameter to control this behavior.\n",
      "  _warn_prf(average, modifier, msg_start, len(result))\n"
     ]
    },
    {
     "name": "stdout",
     "output_type": "stream",
     "text": [
      "              precision    recall  f1-score   support\n",
      "\n",
      "       ANGLE       0.50      0.02      0.05       328\n",
      "      CORNER       0.20      0.01      0.02       377\n",
      "       CROSS       0.33      0.35      0.34       855\n",
      "        FLAT       0.48      0.77      0.59      1180\n",
      "          GO       0.30      0.68      0.42      1442\n",
      "       HITCH       0.21      0.35      0.26      1146\n",
      "          IN       0.11      0.01      0.01       626\n",
      "         OUT       0.20      0.03      0.06       838\n",
      "        POST       0.27      0.01      0.01       533\n",
      "      SCREEN       0.45      0.06      0.10       338\n",
      "       SLANT       0.36      0.01      0.02       466\n",
      "       WHEEL       0.00      0.00      0.00        41\n",
      "\n",
      "    accuracy                           0.32      8170\n",
      "   macro avg       0.29      0.19      0.16      8170\n",
      "weighted avg       0.30      0.32      0.25      8170\n",
      "\n",
      "Random Forest Accuracy: 0.3247246022031824\n",
      "Best hyperparameters: {'max_depth': 15, 'n_estimators': 402}\n"
     ]
    }
   ],
   "source": [
    "confusion_matrix(y_test, RF.predict(X_test))\n",
    "print(classification_report(y_test, RF.predict(X_test)))\n",
    "RF_accuracy = accuracy_score(y_test, RF.predict(X_test))\n",
    "print(f\"Random Forest Accuracy: {RF_accuracy}\")\n",
    "best_rf = random_search.best_estimator_\n",
    "\n",
    "# Print the best hyperparameters\n",
    "print('Best hyperparameters:',  random_search.best_params_)"
   ]
  },
  {
   "cell_type": "markdown",
   "id": "25b13615",
   "metadata": {},
   "source": [
    "Final Accuracies:"
   ]
  },
  {
   "cell_type": "code",
   "execution_count": 62,
   "id": "92004516",
   "metadata": {},
   "outputs": [
    {
     "name": "stdout",
     "output_type": "stream",
     "text": [
      "Random Forest Accuracy: 0.3247246022031824\n",
      "Logistic Regression Accuracy: 0.28873929008567933\n"
     ]
    }
   ],
   "source": [
    "RF_accuracy = accuracy_score(y_test, RF.predict(X_test))\n",
    "LR_accuracy = accuracy_score(y_test, LR.predict(X_test))\n",
    "\n",
    "print(f\"Random Forest Accuracy: {RF_accuracy}\")\n",
    "print(f\"Logistic Regression Accuracy: {LR_accuracy}\")"
   ]
  },
  {
   "cell_type": "markdown",
   "id": "57b6d0bb",
   "metadata": {},
   "source": [
    "With the final model accuracies sitting around 28.9% and 32.5%, we look to next steps. Ideally, this model can be used with computer vision to understand immediately distances from the snap, what yard line the team is on, and the formation of the offense. On top of this, the model would be tracking the scores of the game and so each play as the team is lined up the coaching staff would have the model open, and a percentage odds for the most likely route would show.\n",
    "\n",
    "To improve accuracy, I think further hyperparameter tuning could be done, as well as attempting new modeling techniques such as neural networks, which could more deeply understand the patterns and relationships between plays.\n",
    "\n",
    "This project was a fun one, and my first personal data science project. Before I started, I was looking into doing an NFL project, and then an advisor in my program mentioned this competition days later, a couple of weeks before the competition end date. I look forward to competing next year as well!"
   ]
  }
 ],
 "metadata": {
  "kernelspec": {
   "display_name": "Python 3 (ipykernel)",
   "language": "python",
   "name": "python3"
  },
  "language_info": {
   "codemirror_mode": {
    "name": "ipython",
    "version": 3
   },
   "file_extension": ".py",
   "mimetype": "text/x-python",
   "name": "python",
   "nbconvert_exporter": "python",
   "pygments_lexer": "ipython3",
   "version": "3.11.5"
  }
 },
 "nbformat": 4,
 "nbformat_minor": 5
}
